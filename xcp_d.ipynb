{
 "cells": [
  {
   "cell_type": "markdown",
   "metadata": {},
   "source": [
    "fmriprep-docker D:\\\\AI-Alignment\\\\cognitive-networks\\\\data D:\\\\AI-Alignment\\\\cognitive-networks\\\\data\\\\derivatives\\\\fmriprep_outputs participant --fs-license-file D:\\\\AI-Alignment\\\\cognitive-networks\\\\license.txt"
   ]
  },
  {
   "cell_type": "markdown",
   "metadata": {},
   "source": [
    "fmriprep-docker D:\\\\AI-Alignment\\\\cognitive-networks\\\\data D:\\\\AI-Alignment\\\\cognitive-networks\\\\data\\\\derivatives\\\\fmriprep_testing participant --participant-label MSC01 MSC02 --task-id rest --low-mem --output-spaces MNI152NLin6Asym MNI152NLin2009cAsym --slice-time-ref 0 --fs-license-file D:\\\\AI-Alignment\\\\cognitive-networks\\\\license.txt"
   ]
  },
  {
   "cell_type": "markdown",
   "metadata": {},
   "source": [
    "docker run --rm -it -v d:\\\\AI-Alignment\\\\cognitive-networks\\\\data\\\\derivatives\\\\fmriprep:/fmriprep:ro -v d:\\\\AI-Alignment\\\\cognitive-networks\\\\data\\\\derivatives\\\\xcp_d:/out:rw -v d:\\\\AI-Alignment\\\\cognitive-networks\\\\data\\\\derivatives\\\\fmriprep\\\\sourcedata\\\\freesurfer:/freesurfer:ro pennlinc/xcp_d:latest /fmriprep /out participant --despike\n"
   ]
  },
  {
   "cell_type": "markdown",
   "metadata": {},
   "source": [
    "docker run --rm -it -v d:\\\\AI-Alignment\\\\cognitive-networks\\\\data\\\\derivatives\\\\fmriprep_testing:/fmriprep:ro -v d:\\\\AI-Alignment\\\\cognitive-networks\\\\data\\\\derivatives\\\\xcp_d_testing:/out:rw -v d:\\\\AI-Alignment\\\\cognitive-networks\\\\data\\\\derivatives\\\\fmriprep_testing\\\\sourcedata\\\\freesurfer:/freesurfer:ro pennlinc/xcp_d:latest /fmriprep /out participant --participant-label MSC01 MSC02 --atlases Gordon --cifti --despike\n"
   ]
  },
  {
   "cell_type": "code",
   "execution_count": 2,
   "metadata": {},
   "outputs": [
    {
     "name": "stdout",
     "output_type": "stream",
     "text": [
      "hello world\n"
     ]
    }
   ],
   "source": [
    "print(\"hello world\")\n",
    "# wsl --shutdown"
   ]
  },
  {
   "cell_type": "code",
   "execution_count": null,
   "metadata": {},
   "outputs": [],
   "source": []
  }
 ],
 "metadata": {
  "kernelspec": {
   "display_name": "cn",
   "language": "python",
   "name": "python3"
  },
  "language_info": {
   "codemirror_mode": {
    "name": "ipython",
    "version": 3
   },
   "file_extension": ".py",
   "mimetype": "text/x-python",
   "name": "python",
   "nbconvert_exporter": "python",
   "pygments_lexer": "ipython3",
   "version": "3.12.2"
  }
 },
 "nbformat": 4,
 "nbformat_minor": 2
}
